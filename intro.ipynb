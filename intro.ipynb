{
 "cells": [
  {
   "cell_type": "code",
   "execution_count": 6,
   "id": "6bfac4ba",
   "metadata": {},
   "outputs": [],
   "source": [
    "from pydantic import BaseModel"
   ]
  },
  {
   "cell_type": "code",
   "execution_count": 18,
   "id": "13f7d0e4",
   "metadata": {},
   "outputs": [
    {
     "name": "stdout",
     "output_type": "stream",
     "text": [
      "name='John' age=30 city='Kandy' salary=213.0\n"
     ]
    }
   ],
   "source": [
    "from typing import Optional\n",
    "class Person(BaseModel):\n",
    "    name:str\n",
    "    age:int\n",
    "    city:str\n",
    "    salary: Optional[float] = None\n",
    "\n",
    "person = Person(name=\"John\", age=\"30\", city=\"Kandy\",salary= \"213\")\n",
    "print(person)"
   ]
  },
  {
   "cell_type": "code",
   "execution_count": 22,
   "id": "f0110f95",
   "metadata": {},
   "outputs": [
    {
     "name": "stdout",
     "output_type": "stream",
     "text": [
      "room_number='101' students=['Arafath', 'Shazmina'] capacity=20\n"
     ]
    }
   ],
   "source": [
    "from typing import List\n",
    "class Classroom(BaseModel):\n",
    "    room_number: str\n",
    "    students: List[str]\n",
    "    capacity: int\n",
    "\n",
    "classroom = Classroom(room_number=\"101\", students=[\"Arafath\",\"Shazmina\"], capacity=20)\n",
    "print(classroom)\n"
   ]
  },
  {
   "cell_type": "code",
   "execution_count": 24,
   "id": "366b677d",
   "metadata": {},
   "outputs": [
    {
     "name": "stdout",
     "output_type": "stream",
     "text": [
      "name='arafath' address=Address(street='123 Main St', city='Anytown', state='CA', zip_code='12345') age=None\n"
     ]
    }
   ],
   "source": [
    "from pydantic import BaseModel\n",
    "\n",
    "class Address(BaseModel):\n",
    "    street: str\n",
    "    city: str\n",
    "    state: str\n",
    "    zip_code: str\n",
    "\n",
    "class Customer(BaseModel):\n",
    "    name: str\n",
    "    address: Address\n",
    "    age: Optional[int] = None\n",
    "\n",
    "customer = Customer(name=\"arafath\",address={\"street\":\"123 Main St\", \"city\":\"Anytown\", \"state\":\"CA\", \"zip_code\":\"12345\"},  )\n",
    "print(customer)\n",
    "\n"
   ]
  },
  {
   "cell_type": "code",
   "execution_count": 28,
   "id": "f5dce828",
   "metadata": {},
   "outputs": [
    {
     "name": "stdout",
     "output_type": "stream",
     "text": [
      "name='arafath' price=10.0 tax=10.0\n"
     ]
    }
   ],
   "source": [
    "from pydantic import BaseModel, Field\n",
    "from typing import Optional\n",
    "\n",
    "class Item(BaseModel):\n",
    "    name: str = Field(min_length=1,max_length=100,description=\"The name of the item\")\n",
    "    price: float=Field(...,gt=0,description=\"The price of the item\")\n",
    "    tax: Optional[float] = None\n",
    "    \n",
    "item = Item(name=\"arafath\",price=10,tax=10)\n",
    "print(item)\n"
   ]
  }
 ],
 "metadata": {
  "kernelspec": {
   "display_name": ".venv",
   "language": "python",
   "name": "python3"
  },
  "language_info": {
   "codemirror_mode": {
    "name": "ipython",
    "version": 3
   },
   "file_extension": ".py",
   "mimetype": "text/x-python",
   "name": "python",
   "nbconvert_exporter": "python",
   "pygments_lexer": "ipython3",
   "version": "3.10.18"
  }
 },
 "nbformat": 4,
 "nbformat_minor": 5
}
